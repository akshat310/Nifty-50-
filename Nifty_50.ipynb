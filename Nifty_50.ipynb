{
 "cells": [
  {
   "cell_type": "code",
   "execution_count": 4,
   "id": "120c0235-d587-49dc-b78c-96f2e2104472",
   "metadata": {},
   "outputs": [],
   "source": [
    "import pandas as pd \n",
    "import numpy as np\n",
    "import tensorflow as tf\n",
    "from sklearn.preprocessing import MinMaxScaler\n",
    "import time"
   ]
  },
  {
   "cell_type": "code",
   "execution_count": 6,
   "id": "4688f51e-26ce-4cb6-928d-992dd2a74fb1",
   "metadata": {},
   "outputs": [],
   "source": [
    "df = pd.read_csv('test.csv')\n",
    "df = df.dropna(subset=['Open', 'Close'])\n",
    "# Extract Open and Close columns\n",
    "opens = df['Open'].values.reshape(-1, 1)\n",
    "closes = df['Close'].values.reshape(-1, 1)"
   ]
  },
  {
   "cell_type": "code",
   "execution_count": 8,
   "id": "48c251ae-f31b-4071-b85d-54224bd2914c",
   "metadata": {},
   "outputs": [],
   "source": [
    "# Step 4: Normalize Data\n",
    "scaler_open = MinMaxScaler()\n",
    "scaler_close = MinMaxScaler()\n",
    "normalized_opens = scaler_open.fit_transform(opens)\n",
    "normalized_closes = scaler_close.fit_transform(closes)\n"
   ]
  },
  {
   "cell_type": "code",
   "execution_count": 10,
   "id": "56c230f8-8fcc-43df-8e28-6974a27cc390",
   "metadata": {},
   "outputs": [],
   "source": [
    "# Step 5: Prepare Training Data\n",
    "X_open = normalized_opens[:-1]\n",
    "y_open = normalized_opens[1:]\n",
    "\n",
    "X_close = normalized_opens\n",
    "y_close = normalized_closes"
   ]
  },
  {
   "cell_type": "code",
   "execution_count": 19,
   "id": "d13b17d1-61de-4883-9846-941574aa91c9",
   "metadata": {},
   "outputs": [
    {
     "data": {
      "text/plain": [
       "<keras.src.callbacks.history.History at 0x248660b5280>"
      ]
     },
     "execution_count": 19,
     "metadata": {},
     "output_type": "execute_result"
    }
   ],
   "source": [
    "# Open price prediction model\n",
    "open_model = tf.keras.Sequential([\n",
    "    tf.keras.Input(shape=(1,)),  # 👈 Correct way to specify input shape\n",
    "    tf.keras.layers.Dense(10, activation='relu'),\n",
    "    tf.keras.layers.Dense(1)\n",
    "])\n",
    "open_model.compile(optimizer=tf.keras.optimizers.Adam(0.01), loss='mse')\n",
    "\n",
    "# Close price prediction model\n",
    "close_model = tf.keras.Sequential([\n",
    "    tf.keras.Input(shape=(1,)),  # 👈 Correct way to specify input shape\n",
    "    tf.keras.layers.Dense(10, activation='relu'),\n",
    "    tf.keras.layers.Dense(1)\n",
    "])\n",
    "close_model.compile(optimizer=tf.keras.optimizers.Adam(0.01), loss='mse')\n",
    "\n",
    "# Train both models\n",
    "start_time = time.time()\n",
    "open_model.fit(X_open, y_open, epochs=50, batch_size=1, verbose=0)\n",
    "close_model.fit(X_close, y_close, epochs=50, batch_size=1, verbose=0)\n"
   ]
  },
  {
   "cell_type": "code",
   "execution_count": 21,
   "id": "3c7b2234-df39-4c24-80dd-26588696158a",
   "metadata": {},
   "outputs": [
    {
     "name": "stdout",
     "output_type": "stream",
     "text": [
      "\u001b[1m1/1\u001b[0m \u001b[32m━━━━━━━━━━━━━━━━━━━━\u001b[0m\u001b[37m\u001b[0m \u001b[1m0s\u001b[0m 138ms/step\n",
      "\u001b[1m1/1\u001b[0m \u001b[32m━━━━━━━━━━━━━━━━━━━━\u001b[0m\u001b[37m\u001b[0m \u001b[1m0s\u001b[0m 141ms/step\n"
     ]
    }
   ],
   "source": [
    "# Step 7: Predict Next Day Prices\n",
    "last_open = normalized_opens[-1].reshape(1, 1)\n",
    "predicted_open_norm = open_model.predict(last_open)[0][0]\n",
    "predicted_close_norm = close_model.predict(last_open)[0][0]\n",
    "\n",
    "predicted_open = scaler_open.inverse_transform([[predicted_open_norm]])[0][0]\n",
    "predicted_close = scaler_close.inverse_transform([[predicted_close_norm]])[0][0]\n",
    "\n",
    "end_time = time.time()\n",
    "time_taken = end_time - start_time"
   ]
  },
  {
   "cell_type": "code",
   "execution_count": 23,
   "id": "fbd4f6e5-d6ec-4867-a4b6-186e03c0a614",
   "metadata": {},
   "outputs": [
    {
     "name": "stdout",
     "output_type": "stream",
     "text": [
      "Number of entries used for training: 256\n",
      "Prediction: Next day's opening price is 23695.09, and closing price is 23607.90.\n",
      "Time taken for prediction: 65.28 seconds.\n"
     ]
    }
   ],
   "source": [
    "# Step 8: Output Results\n",
    "print(f\"Number of entries used for training: {len(opens)}\")\n",
    "print(f\"Prediction: Next day's opening price is {predicted_open:.2f}, and closing price is {predicted_close:.2f}.\")\n",
    "print(f\"Time taken for prediction: {time_taken:.2f} seconds.\")"
   ]
  },
  {
   "cell_type": "code",
   "execution_count": null,
   "id": "438921c2-4568-4ee8-96f6-77c6a730936d",
   "metadata": {},
   "outputs": [],
   "source": []
  }
 ],
 "metadata": {
  "kernelspec": {
   "display_name": "Python [conda env:base] *",
   "language": "python",
   "name": "conda-base-py"
  },
  "language_info": {
   "codemirror_mode": {
    "name": "ipython",
    "version": 3
   },
   "file_extension": ".py",
   "mimetype": "text/x-python",
   "name": "python",
   "nbconvert_exporter": "python",
   "pygments_lexer": "ipython3",
   "version": "3.12.7"
  }
 },
 "nbformat": 4,
 "nbformat_minor": 5
}
